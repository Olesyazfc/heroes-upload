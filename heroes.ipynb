{
 "cells": [
  {
   "cell_type": "code",
   "execution_count": 36,
   "metadata": {},
   "outputs": [
    {
     "name": "stdout",
     "output_type": "stream",
     "text": [
      "Thanos\n"
     ]
    }
   ],
   "source": [
    "import requests\n",
    "\n",
    "def find_most_intelligent():\n",
    "    url = 'https://superheroapi.com/api/2619421814940190/search/'\n",
    "\n",
    "    superheroes = [{'name' : 'Hulk'}, {'name' : 'Captain America'}, {'name' : 'Thanos'}]\n",
    "    most_iq = 0\n",
    "    for hero in superheroes:\n",
    "        hero_id = requests.get(url + hero['name'])\n",
    "        iq = hero_id.json()['results'][0]['powerstats']['intelligence']\n",
    "        if int(iq) > int(most_iq):\n",
    "            most_iq = iq\n",
    "            most_intelligent = hero\n",
    "    return most_intelligent['name']\n",
    "\n",
    "print(find_most_intelligent())\n",
    "\n",
    "\n"
   ]
  }
 ],
 "metadata": {
  "interpreter": {
   "hash": "b89b5cfaba6639976dc87ff2fec6d58faec662063367e2c229c520fe71072417"
  },
  "kernelspec": {
   "display_name": "Python 3.10.0 64-bit",
   "language": "python",
   "name": "python3"
  },
  "language_info": {
   "codemirror_mode": {
    "name": "ipython",
    "version": 3
   },
   "file_extension": ".py",
   "mimetype": "text/x-python",
   "name": "python",
   "nbconvert_exporter": "python",
   "pygments_lexer": "ipython3",
   "version": "3.10.0"
  },
  "orig_nbformat": 4
 },
 "nbformat": 4,
 "nbformat_minor": 2
}
