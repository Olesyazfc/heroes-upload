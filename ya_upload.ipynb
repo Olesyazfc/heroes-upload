{
 "cells": [
  {
   "cell_type": "code",
   "execution_count": 2,
   "metadata": {},
   "outputs": [
    {
     "name": "stdout",
     "output_type": "stream",
     "text": [
      "{'href': 'https://uploader18j.disk.yandex.net:443/upload-target/20220214T183954.143.utd.6ymmh1c25odkidei5hqir0apg-k18j.9349669',\n",
      " 'method': 'PUT',\n",
      " 'operation_id': 'edf4821d8e5da1be5b2fdb54bb9aad1bbb93131d80c7c72fb465af905bc36389',\n",
      " 'templated': False}\n",
      "Success\n"
     ]
    }
   ],
   "source": [
    "import requests\n",
    "import os\n",
    "\n",
    "class YaUploader:\n",
    "    def __init__(self, token: str):\n",
    "        self.token = token\n",
    "\n",
    "    \n",
    "    def upload(self, file_path: str):\n",
    "        upload_url = \"https://cloud-api.yandex.net/v1/disk/resources/upload\"\n",
    "        headers = {\n",
    "            'Content-Type': 'application/json',\n",
    "            'Authorization': 'OAuth {}'.format(self.token)\n",
    "        }\n",
    "        params = {\"path\": disk_file_path, \"overwrite\": \"true\"}\n",
    "        response = requests.get(upload_url, headers=headers, params=params)\n",
    "        href = response.json().get(\"href\", \"\")\n",
    "        response1 = requests.put(href, data=open(file_path, 'rb'))\n",
    "\n",
    "        if response1.status_code == 201:\n",
    "            print(\"Success\")\n",
    "\n",
    "if __name__ == '__main__':\n",
    "    token = ''\n",
    "    uploader = YaUploader(token)\n",
    "    file_path = \"C:\\Projects\\heroes\\ya.txt\"\n",
    "    filename = os.path.basename(file_path)\n",
    "    disk_file_path = 'netology/' + filename\n",
    "    result = uploader.upload(file_path)\n",
    "\n"
   ]
  }
 ],
 "metadata": {
  "interpreter": {
   "hash": "b89b5cfaba6639976dc87ff2fec6d58faec662063367e2c229c520fe71072417"
  },
  "kernelspec": {
   "display_name": "Python 3.10.0 64-bit",
   "language": "python",
   "name": "python3"
  },
  "language_info": {
   "codemirror_mode": {
    "name": "ipython",
    "version": 3
   },
   "file_extension": ".py",
   "mimetype": "text/x-python",
   "name": "python",
   "nbconvert_exporter": "python",
   "pygments_lexer": "ipython3",
   "version": "3.10.0"
  },
  "orig_nbformat": 4
 },
 "nbformat": 4,
 "nbformat_minor": 2
}
